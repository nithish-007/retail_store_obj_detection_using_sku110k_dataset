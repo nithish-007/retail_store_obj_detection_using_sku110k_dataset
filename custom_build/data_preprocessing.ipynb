{
 "cells": [
  {
   "cell_type": "code",
   "execution_count": 13,
   "metadata": {},
   "outputs": [
    {
     "ename": "AttributeError",
     "evalue": "'NoneType' object has no attribute 'shape'",
     "output_type": "error",
     "traceback": [
      "\u001b[1;31m---------------------------------------------------------------------------\u001b[0m",
      "\u001b[1;31mAttributeError\u001b[0m                            Traceback (most recent call last)",
      "Cell \u001b[1;32mIn[13], line 19\u001b[0m\n\u001b[0;32m     16\u001b[0m height \u001b[38;5;241m=\u001b[39m \u001b[38;5;28mfloat\u001b[39m(values[\u001b[38;5;241m4\u001b[39m])\n\u001b[0;32m     18\u001b[0m \u001b[38;5;66;03m# Calculate the coordinates\u001b[39;00m\n\u001b[1;32m---> 19\u001b[0m image_height, image_width \u001b[38;5;241m=\u001b[39m \u001b[43mimage\u001b[49m\u001b[38;5;241;43m.\u001b[39;49m\u001b[43mshape\u001b[49m[:\u001b[38;5;241m2\u001b[39m]\n\u001b[0;32m     21\u001b[0m x1 \u001b[38;5;241m=\u001b[39m \u001b[38;5;28mint\u001b[39m((center_x \u001b[38;5;241m-\u001b[39m width \u001b[38;5;241m/\u001b[39m \u001b[38;5;241m2\u001b[39m) \u001b[38;5;241m*\u001b[39m image_width)\n\u001b[0;32m     22\u001b[0m y1 \u001b[38;5;241m=\u001b[39m \u001b[38;5;28mint\u001b[39m((center_y \u001b[38;5;241m-\u001b[39m height \u001b[38;5;241m/\u001b[39m \u001b[38;5;241m2\u001b[39m) \u001b[38;5;241m*\u001b[39m image_height)\n",
      "\u001b[1;31mAttributeError\u001b[0m: 'NoneType' object has no attribute 'shape'"
     ]
    }
   ],
   "source": [
    "import cv2\n",
    "from PIL import Image\n",
    "\n",
    "image = cv2.imread(\".\\SKU110K_fixed\\images\\test\\test_0.jpg\")\n",
    "with open(r\"D:\\AI_ML_DL\\shelf_audit\\objectDetectionAndImageClassification\\SKU110K_fixed\\labels\\test\\test_0.txt\") as f:\n",
    "    lines = f.read().strip().split(\"\\n\")\n",
    "    for line in lines:\n",
    "        # Split the line by spaces to separate the values\n",
    "        values = line.split()\n",
    "\n",
    "        # Convert the values to floats\n",
    "        class_id = int(values[0])\n",
    "        center_x = float(values[1])\n",
    "        center_y = float(values[2])\n",
    "        width = float(values[3])\n",
    "        height = float(values[4])\n",
    "\n",
    "        # Calculate the coordinates\n",
    "        image_height, image_width = image.shape[:2]\n",
    "\n",
    "        x1 = int((center_x - width / 2) * image_width)\n",
    "        y1 = int((center_y - height / 2) * image_height)\n",
    "        x2 = int((center_x + width / 2) * image_width)\n",
    "        y2 = int((center_y + height / 2) * image_height)\n",
    "        \n",
    "        cv2.rectangle(image, (x1,y1), (x2,y2), (0,255,0), 4)\n",
    "\n",
    "Image.fromarray(cv2.resize(image[:,:,::-1], (640, 640)))"
   ]
  },
  {
   "cell_type": "code",
   "execution_count": 14,
   "metadata": {},
   "outputs": [
    {
     "ename": "ModuleNotFoundError",
     "evalue": "No module named 'helper'",
     "output_type": "error",
     "traceback": [
      "\u001b[1;31m---------------------------------------------------------------------------\u001b[0m",
      "\u001b[1;31mModuleNotFoundError\u001b[0m                       Traceback (most recent call last)",
      "Cell \u001b[1;32mIn[14], line 1\u001b[0m\n\u001b[1;32m----> 1\u001b[0m \u001b[38;5;28;01mfrom\u001b[39;00m \u001b[38;5;21;01mhelper\u001b[39;00m \u001b[38;5;28;01mimport\u001b[39;00m load_image_from_url, render_results_in_image\n",
      "\u001b[1;31mModuleNotFoundError\u001b[0m: No module named 'helper'"
     ]
    }
   ],
   "source": [
    "from helper import load_image_from_url, render_results_in_image"
   ]
  },
  {
   "cell_type": "code",
   "execution_count": null,
   "metadata": {},
   "outputs": [],
   "source": []
  }
 ],
 "metadata": {
  "kernelspec": {
   "display_name": "dl-practice",
   "language": "python",
   "name": "python3"
  },
  "language_info": {
   "codemirror_mode": {
    "name": "ipython",
    "version": 3
   },
   "file_extension": ".py",
   "mimetype": "text/x-python",
   "name": "python",
   "nbconvert_exporter": "python",
   "pygments_lexer": "ipython3",
   "version": "3.10.14"
  }
 },
 "nbformat": 4,
 "nbformat_minor": 2
}
